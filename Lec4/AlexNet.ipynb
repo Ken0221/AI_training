{
  "cells": [
    {
      "cell_type": "code",
      "execution_count": 4,
      "metadata": {
        "colab": {
          "base_uri": "https://localhost:8080/"
        },
        "id": "5DD_Gt3i6SDh",
        "outputId": "1400e108-5ab1-4a7e-d4a4-2ba489ce5b12"
      },
      "outputs": [
        {
          "name": "stdout",
          "output_type": "stream",
          "text": [
            "Requirement already satisfied: thop in ./anaconda3/envs/torch/lib/python3.8/site-packages (0.1.1.post2209072238)\n",
            "Requirement already satisfied: torch in ./anaconda3/envs/torch/lib/python3.8/site-packages (from thop) (2.3.1)\n",
            "Requirement already satisfied: filelock in ./anaconda3/envs/torch/lib/python3.8/site-packages (from torch->thop) (3.13.1)\n",
            "Requirement already satisfied: typing-extensions>=4.8.0 in ./anaconda3/envs/torch/lib/python3.8/site-packages (from torch->thop) (4.12.2)\n",
            "Requirement already satisfied: sympy in ./anaconda3/envs/torch/lib/python3.8/site-packages (from torch->thop) (1.12)\n",
            "Requirement already satisfied: networkx in ./anaconda3/envs/torch/lib/python3.8/site-packages (from torch->thop) (3.1)\n",
            "Requirement already satisfied: jinja2 in ./anaconda3/envs/torch/lib/python3.8/site-packages (from torch->thop) (3.1.2)\n",
            "Requirement already satisfied: fsspec in ./anaconda3/envs/torch/lib/python3.8/site-packages (from torch->thop) (2024.6.1)\n",
            "Requirement already satisfied: MarkupSafe>=2.0 in ./anaconda3/envs/torch/lib/python3.8/site-packages (from jinja2->torch->thop) (2.1.1)\n",
            "Requirement already satisfied: mpmath>=0.19 in ./anaconda3/envs/torch/lib/python3.8/site-packages (from sympy->torch->thop) (1.3.0)\n",
            "Requirement already satisfied: torchsummary in ./anaconda3/envs/torch/lib/python3.8/site-packages (1.5.1)\n"
          ]
        }
      ],
      "source": [
        "!pip install thop\n",
        "!pip install torchsummary"
      ]
    },
    {
      "cell_type": "code",
      "execution_count": 5,
      "metadata": {
        "id": "Cm3Q1DuK7-Nw"
      },
      "outputs": [
        {
          "name": "stdout",
          "output_type": "stream",
          "text": [
            "[INFO] Register count_convNd() for <class 'torch.nn.modules.conv.Conv2d'>.\n",
            "[INFO] Register count_linear() for <class 'torch.nn.modules.linear.Linear'>.\n",
            "cuda\n",
            "FLOPS: 705535424.0\n",
            "Parameters: 45463084.0\n"
          ]
        }
      ],
      "source": [
        "import torch\n",
        "import torch.nn as nn\n",
        "import torch.nn.functional as F\n",
        "from thop import profile\n",
        "from torchsummary import summary\n",
        "\n",
        "class CustomAlexNet(nn.Module):\n",
        "    def __init__(self, num_classes):\n",
        "        super(CustomAlexNet, self).__init__()\n",
        "        # Create your AlexNet\n",
        "        self.conv1 = nn.Conv2d(in_channels=3, out_channels=64, kernel_size=11, padding=2, stride=4)\n",
        "        self.conv2 = nn.Conv2d(in_channels=64, out_channels=196, kernel_size=5, padding=2)\n",
        "        self.conv3 = nn.Conv2d(in_channels=196, out_channels=384, kernel_size=3, padding=1)\n",
        "        self.conv4 = nn.Conv2d(in_channels=384, out_channels=256, kernel_size=3, padding=1)\n",
        "        self.conv5 = nn.Conv2d(in_channels=256, out_channels=256, kernel_size=3, padding=1)\n",
        "        self.fc1 = nn.Linear(in_features=256*6*6, out_features=4096)\n",
        "        self.fc2 = nn.Linear(in_features=4096, out_features=1024)\n",
        "        self.fc3 = nn.Linear(in_features=1024, out_features=num_classes)\n",
        "\n",
        "    def forward(self, x):\n",
        "        # Connect your Model\n",
        "        x = F.relu(self.conv1(x))\n",
        "        x = F.max_pool2d(x, kernel_size=3, stride=2)\n",
        "        x = F.relu(self.conv2(x))\n",
        "        x = F.max_pool2d(x, kernel_size=3, stride=2)\n",
        "        x = F.relu(self.conv3(x))\n",
        "        x = F.relu(self.conv4(x))\n",
        "        x = F.relu(self.conv5(x))\n",
        "        x = F.max_pool2d(x, kernel_size=3, stride=2)\n",
        "        x = torch.flatten(x, start_dim=1)\n",
        "        x = F.relu(self.fc1(x))\n",
        "        x = F.dropout(x, p=0.5)\n",
        "        x = F.relu(self.fc2(x))\n",
        "        x = F.dropout(x, p=0.5)\n",
        "        x = self.fc3(x)\n",
        "        return x\n",
        "\n",
        "model = CustomAlexNet(1000)\n",
        "inputs = torch.randn(1, 3, 224, 224)\n",
        "flops, params = profile(model, inputs=(inputs,))\n",
        "\n",
        "# 檢查 CUDA 是否可用，並將模型和輸入移動到相同設備\n",
        "device = torch.device('cuda' if torch.cuda.is_available() else 'cpu')\n",
        "print(device)\n",
        "model.to(device)\n",
        "\n",
        "# 定義輸入張量並將其移動到相同設備\n",
        "inputs = torch.randn(1, 3, 224, 224).to(device)\n",
        "\n",
        "print(f\"FLOPS: {flops}\")\n",
        "print(f\"Parameters: {params}\")\n"
      ]
    },
    {
      "cell_type": "code",
      "execution_count": 6,
      "metadata": {
        "id": "oFgfhaCQxAdL"
      },
      "outputs": [
        {
          "name": "stdout",
          "output_type": "stream",
          "text": [
            "----------------------------------------------------------------\n",
            "        Layer (type)               Output Shape         Param #\n",
            "================================================================\n",
            "            Conv2d-1           [-1, 64, 55, 55]          23,296\n",
            "            Conv2d-2          [-1, 196, 27, 27]         313,796\n",
            "            Conv2d-3          [-1, 384, 13, 13]         677,760\n",
            "            Conv2d-4          [-1, 256, 13, 13]         884,992\n",
            "            Conv2d-5          [-1, 256, 13, 13]         590,080\n",
            "            Linear-6                 [-1, 4096]      37,752,832\n",
            "            Linear-7                 [-1, 1024]       4,195,328\n",
            "            Linear-8                 [-1, 1000]       1,025,000\n",
            "================================================================\n",
            "Total params: 45,463,084\n",
            "Trainable params: 45,463,084\n",
            "Non-trainable params: 0\n",
            "----------------------------------------------------------------\n",
            "Input size (MB): 0.57\n",
            "Forward/backward pass size (MB): 3.77\n",
            "Params size (MB): 173.43\n",
            "Estimated Total Size (MB): 177.77\n",
            "----------------------------------------------------------------\n"
          ]
        }
      ],
      "source": [
        "summary(model,(3,224,224))"
      ]
    }
  ],
  "metadata": {
    "colab": {
      "provenance": []
    },
    "kernelspec": {
      "display_name": "Python 3",
      "name": "python3"
    },
    "language_info": {
      "codemirror_mode": {
        "name": "ipython",
        "version": 3
      },
      "file_extension": ".py",
      "mimetype": "text/x-python",
      "name": "python",
      "nbconvert_exporter": "python",
      "pygments_lexer": "ipython3",
      "version": "3.8.19"
    }
  },
  "nbformat": 4,
  "nbformat_minor": 0
}
